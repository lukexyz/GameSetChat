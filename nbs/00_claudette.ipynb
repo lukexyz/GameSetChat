{
 "cells": [
  {
   "cell_type": "markdown",
   "metadata": {},
   "source": [
    "# Chat API\n",
    "\n",
    "* Connecting to Claude's API via [claudette](https://claudette.answer.ai/) for chat completion, and `openai` for text-to-speech (TTS)."
   ]
  },
  {
   "cell_type": "code",
   "execution_count": 1,
   "metadata": {},
   "outputs": [],
   "source": [
    "#| default_exp chat"
   ]
  },
  {
   "cell_type": "code",
   "execution_count": 2,
   "metadata": {},
   "outputs": [],
   "source": [
    "#| hide\n",
    "from nbdev.showdoc import *"
   ]
  },
  {
   "cell_type": "code",
   "execution_count": 5,
   "metadata": {},
   "outputs": [],
   "source": [
    "#| export\n",
    "import claudette\n",
    "from pathlib import Path"
   ]
  },
  {
   "cell_type": "markdown",
   "metadata": {},
   "source": [
    "* Claudette provides models, which is a list of models currently available from the SDK."
   ]
  },
  {
   "cell_type": "code",
   "execution_count": 6,
   "metadata": {},
   "outputs": [
    {
     "data": {
      "text/plain": [
       "['claude-3-opus-20240229',\n",
       " 'claude-3-5-sonnet-20241022',\n",
       " 'claude-3-haiku-20240307',\n",
       " 'claude-3-5-haiku-20241022']"
      ]
     },
     "execution_count": 6,
     "metadata": {},
     "output_type": "execute_result"
    }
   ],
   "source": [
    "claudette.models"
   ]
  },
  {
   "cell_type": "code",
   "execution_count": 7,
   "metadata": {},
   "outputs": [],
   "source": [
    "# using Sonnet 3.5\n",
    "model = claudette.models[1]"
   ]
  },
  {
   "cell_type": "code",
   "execution_count": 8,
   "metadata": {},
   "outputs": [
    {
     "data": {
      "text/markdown": [
       "November in the UK is typically cool and wet. Average temperatures range from 5-10°C (41-50°F), with frequent rainfall and overcast skies. Daylight hours decrease noticeably, with darkness falling early (around 4-5pm). Frost becomes more common, especially in the mornings, and occasional strong winds can occur.\n",
       "\n",
       "<details>\n",
       "\n",
       "- id: `msg_01G6hS3zw7RqW8nPFZcAQFp6`\n",
       "- content: `[{'citations': None, 'text': 'November in the UK is typically cool and wet. Average temperatures range from 5-10°C (41-50°F), with frequent rainfall and overcast skies. Daylight hours decrease noticeably, with darkness falling early (around 4-5pm). Frost becomes more common, especially in the mornings, and occasional strong winds can occur.', 'type': 'text'}]`\n",
       "- model: `claude-3-5-sonnet-20241022`\n",
       "- role: `assistant`\n",
       "- stop_reason: `end_turn`\n",
       "- stop_sequence: `None`\n",
       "- type: `message`\n",
       "- usage: `{'cache_creation_input_tokens': 0, 'cache_read_input_tokens': 0, 'input_tokens': 27, 'output_tokens': 79}`\n",
       "\n",
       "</details>"
      ],
      "text/plain": [
       "Message(id='msg_01G6hS3zw7RqW8nPFZcAQFp6', content=[TextBlock(citations=None, text='November in the UK is typically cool and wet. Average temperatures range from 5-10°C (41-50°F), with frequent rainfall and overcast skies. Daylight hours decrease noticeably, with darkness falling early (around 4-5pm). Frost becomes more common, especially in the mornings, and occasional strong winds can occur.', type='text')], model='claude-3-5-sonnet-20241022', role='assistant', stop_reason='end_turn', stop_sequence=None, type='message', usage=In: 27; Out: 79; Cache create: 0; Cache read: 0; Total: 106)"
      ]
     },
     "execution_count": 8,
     "metadata": {},
     "output_type": "execute_result"
    }
   ],
   "source": [
    "system_prompt = \"\"\"You are a helpful and concise assistant.\"\"\"\n",
    "chat = claudette.Chat(model, sp=system_prompt)\n",
    "chat(\"What's the climate like in November in the UK?\")"
   ]
  },
  {
   "cell_type": "code",
   "execution_count": 9,
   "metadata": {},
   "outputs": [
    {
     "data": {
      "text/markdown": [
       "In London during November, the days get progressively shorter. At the start of November, sunrise is around 6:45 AM and sunset around 4:30 PM. By the end of November, sunrise is around 7:30 AM and sunset around 4:00 PM. This means daylight hours decrease from about 9.75 hours to 8 hours throughout the month.\n",
       "\n",
       "<details>\n",
       "\n",
       "- id: `msg_01UCj6XyxCXhHYf8PpRXZF5n`\n",
       "- content: `[{'citations': None, 'text': 'In London during November, the days get progressively shorter. At the start of November, sunrise is around 6:45 AM and sunset around 4:30 PM. By the end of November, sunrise is around 7:30 AM and sunset around 4:00 PM. This means daylight hours decrease from about 9.75 hours to 8 hours throughout the month.', 'type': 'text'}]`\n",
       "- model: `claude-3-5-sonnet-20241022`\n",
       "- role: `assistant`\n",
       "- stop_reason: `end_turn`\n",
       "- stop_sequence: `None`\n",
       "- type: `message`\n",
       "- usage: `{'cache_creation_input_tokens': 0, 'cache_read_input_tokens': 0, 'input_tokens': 122, 'output_tokens': 88}`\n",
       "\n",
       "</details>"
      ],
      "text/plain": [
       "Message(id='msg_01UCj6XyxCXhHYf8PpRXZF5n', content=[TextBlock(citations=None, text='In London during November, the days get progressively shorter. At the start of November, sunrise is around 6:45 AM and sunset around 4:30 PM. By the end of November, sunrise is around 7:30 AM and sunset around 4:00 PM. This means daylight hours decrease from about 9.75 hours to 8 hours throughout the month.', type='text')], model='claude-3-5-sonnet-20241022', role='assistant', stop_reason='end_turn', stop_sequence=None, type='message', usage=In: 122; Out: 88; Cache create: 0; Cache read: 0; Total: 210)"
      ]
     },
     "execution_count": 9,
     "metadata": {},
     "output_type": "execute_result"
    }
   ],
   "source": [
    "r = chat(\"What are the sunrise and sunset times in London during this month?\")\n",
    "r"
   ]
  },
  {
   "cell_type": "code",
   "execution_count": 11,
   "metadata": {},
   "outputs": [
    {
     "data": {
      "text/markdown": [
       "According to Epicurus,  it's to seek happiness and peace of mind through friendship, living simply, and avoiding fear and pain.\n",
       "\n",
       "<details>\n",
       "\n",
       "- id: `msg_01ETi8mSdi3sjbszPqjNmw98`\n",
       "- content: `[{'citations': None, 'text': \"According to Epicurus,  it's to seek happiness and peace of mind through friendship, living simply, and avoiding fear and pain.\", 'type': 'text'}]`\n",
       "- model: `claude-3-5-sonnet-20241022`\n",
       "- role: `assistant`\n",
       "- stop_reason: `end_turn`\n",
       "- stop_sequence: `None`\n",
       "- type: `message`\n",
       "- usage: `{'cache_creation_input_tokens': 0, 'cache_read_input_tokens': 0, 'input_tokens': 300, 'output_tokens': 25}`\n",
       "\n",
       "</details>"
      ],
      "text/plain": [
       "Message(id='msg_01ETi8mSdi3sjbszPqjNmw98', content=[TextBlock(citations=None, text=\"According to Epicurus,  it's to seek happiness and peace of mind through friendship, living simply, and avoiding fear and pain.\", type='text')], model='claude-3-5-sonnet-20241022', role='assistant', stop_reason='end_turn', stop_sequence=None, type='message', usage=In: 300; Out: 25; Cache create: 0; Cache read: 0; Total: 325)"
      ]
     },
     "execution_count": 11,
     "metadata": {},
     "output_type": "execute_result"
    }
   ],
   "source": [
    "chat(\"Concisely, what is the meaning of life?\",\n",
    "     prefill='According to Epicurus,')"
   ]
  },
  {
   "cell_type": "markdown",
   "metadata": {},
   "source": [
    " * Add `stream=True` to stream the results as soon as they arrive"
   ]
  },
  {
   "cell_type": "code",
   "execution_count": 12,
   "metadata": {},
   "outputs": [
    {
     "name": "stdout",
     "output_type": "stream",
     "text": [
      "It was in Epicurus' \"Letter to Menoeceus\" and other surviving fragments of his writings, though most of his works were lost. His philosophy is mainly known through later writers and his student Lucretius' poem \"On the Nature of Things.\""
     ]
    }
   ],
   "source": [
    "for o in chat(\"Concisely, what book was that in?\", prefill='It was in', stream=True):\n",
    "    print(o, end='')"
   ]
  },
  {
   "cell_type": "markdown",
   "metadata": {},
   "source": [
    "### Prompt caching\n",
    "\n",
    "If you use `mk_msg(msg, cache=True)`, then the message is cached using Claude’s [prompt caching](https://docs.anthropic.com/en/docs/build-with-claude/prompt-caching) feature."
   ]
  },
  {
   "cell_type": "code",
   "execution_count": 32,
   "metadata": {},
   "outputs": [
    {
     "data": {
      "text/markdown": [
       "Based on the README, this project appears to be an essential study guide on Socrates and the Socratic Method. Its purpose is to provide a comprehensive overview of:\n",
       "\n",
       "1. Socrates' life and philosophical beliefs\n",
       "2. The Socratic Method and how it works\n",
       "3. Key components of Socratic questioning\n",
       "4. Famous examples and applications of the method\n",
       "5. Socrates' impact and legacy\n",
       "6. Common criticisms and limitations of the Socratic approach\n",
       "\n",
       "The guide aims to offer a concise yet thorough resource for understanding Socrates' philosophy and his influential method of inquiry.\n",
       "\n",
       "<details>\n",
       "\n",
       "- id: `msg_01QgK9MRHYHNVU4kCZa8vB4i`\n",
       "- content: `[{'text': \"Based on the README, this project appears to be an essential study guide on Socrates and the Socratic Method. Its purpose is to provide a comprehensive overview of:\\n\\n1. Socrates' life and philosophical beliefs\\n2. The Socratic Method and how it works\\n3. Key components of Socratic questioning\\n4. Famous examples and applications of the method\\n5. Socrates' impact and legacy\\n6. Common criticisms and limitations of the Socratic approach\\n\\nThe guide aims to offer a concise yet thorough resource for understanding Socrates' philosophy and his influential method of inquiry.\", 'type': 'text'}]`\n",
       "- model: `claude-3-5-sonnet-20240620`\n",
       "- role: `assistant`\n",
       "- stop_reason: `end_turn`\n",
       "- stop_sequence: `None`\n",
       "- type: `message`\n",
       "- usage: `{'input_tokens': 4, 'output_tokens': 132, 'cache_creation_input_tokens': 1230, 'cache_read_input_tokens': 0}`\n",
       "\n",
       "</details>"
      ],
      "text/plain": [
       "Message(id='msg_01QgK9MRHYHNVU4kCZa8vB4i', content=[TextBlock(text=\"Based on the README, this project appears to be an essential study guide on Socrates and the Socratic Method. Its purpose is to provide a comprehensive overview of:\\n\\n1. Socrates' life and philosophical beliefs\\n2. The Socratic Method and how it works\\n3. Key components of Socratic questioning\\n4. Famous examples and applications of the method\\n5. Socrates' impact and legacy\\n6. Common criticisms and limitations of the Socratic approach\\n\\nThe guide aims to offer a concise yet thorough resource for understanding Socrates' philosophy and his influential method of inquiry.\", type='text')], model='claude-3-5-sonnet-20240620', role='assistant', stop_reason='end_turn', stop_sequence=None, type='message', usage=In: 4; Out: 132; Cache create: 1230; Cache read: 0; Total: 1366)"
      ]
     },
     "execution_count": 32,
     "metadata": {},
     "output_type": "execute_result"
    }
   ],
   "source": [
    "from pathlib import Path\n",
    "\n",
    "nbtxt = Path('..\\\\templates\\\\socrates.md').read_text()\n",
    "msg = f'''<README>\n",
    "{nbtxt}\n",
    "</README>\n",
    "In brief, what is the purpose of this project based on the readme?'''\n",
    "r = chat(mk_msg(msg, cache=True))\n",
    "r"
   ]
  },
  {
   "cell_type": "code",
   "execution_count": 33,
   "metadata": {},
   "outputs": [
    {
     "name": "stdout",
     "output_type": "stream",
     "text": [
      "Usage(input_tokens=4, output_tokens=132, cache_creation_input_tokens=1230, cache_read_input_tokens=0)\n"
     ]
    }
   ],
   "source": [
    "print(r.usage)"
   ]
  },
  {
   "cell_type": "code",
   "execution_count": 34,
   "metadata": {},
   "outputs": [
    {
     "data": {
      "text/markdown": [
       "Based on the information provided in the README, two key quotes attributed to Socrates are:\n",
       "\n",
       "1. \"The unexamined life is not worth living\"\n",
       "\n",
       "2. \"I know that I know nothing\" (This is a paraphrase of the idea that knowledge of one's own ignorance is true wisdom)\n",
       "\n",
       "These quotes reflect core aspects of Socrates' philosophical beliefs, emphasizing the importance of self-examination and intellectual humility.\n",
       "\n",
       "<details>\n",
       "\n",
       "- id: `msg_0184TMuc1N1CPcd2Ct9N57ht`\n",
       "- content: `[{'text': 'Based on the information provided in the README, two key quotes attributed to Socrates are:\\n\\n1. \"The unexamined life is not worth living\"\\n\\n2. \"I know that I know nothing\" (This is a paraphrase of the idea that knowledge of one\\'s own ignorance is true wisdom)\\n\\nThese quotes reflect core aspects of Socrates\\' philosophical beliefs, emphasizing the importance of self-examination and intellectual humility.', 'type': 'text'}]`\n",
       "- model: `claude-3-5-sonnet-20240620`\n",
       "- role: `assistant`\n",
       "- stop_reason: `end_turn`\n",
       "- stop_sequence: `None`\n",
       "- type: `message`\n",
       "- usage: `{'input_tokens': 149, 'output_tokens': 97, 'cache_creation_input_tokens': 0, 'cache_read_input_tokens': 1230}`\n",
       "\n",
       "</details>"
      ],
      "text/plain": [
       "Message(id='msg_0184TMuc1N1CPcd2Ct9N57ht', content=[TextBlock(text='Based on the information provided in the README, two key quotes attributed to Socrates are:\\n\\n1. \"The unexamined life is not worth living\"\\n\\n2. \"I know that I know nothing\" (This is a paraphrase of the idea that knowledge of one\\'s own ignorance is true wisdom)\\n\\nThese quotes reflect core aspects of Socrates\\' philosophical beliefs, emphasizing the importance of self-examination and intellectual humility.', type='text')], model='claude-3-5-sonnet-20240620', role='assistant', stop_reason='end_turn', stop_sequence=None, type='message', usage=In: 149; Out: 97; Cache create: 0; Cache read: 1230; Total: 1476)"
      ]
     },
     "execution_count": 34,
     "metadata": {},
     "output_type": "execute_result"
    }
   ],
   "source": [
    "r = chat('What key quotes are attributed to Socrates?')\n",
    "r"
   ]
  },
  {
   "cell_type": "code",
   "execution_count": 35,
   "metadata": {},
   "outputs": [
    {
     "name": "stdout",
     "output_type": "stream",
     "text": [
      "Usage(input_tokens=149, output_tokens=97, cache_creation_input_tokens=0, cache_read_input_tokens=1230)\n"
     ]
    }
   ],
   "source": [
    "print(r.usage)"
   ]
  },
  {
   "cell_type": "markdown",
   "metadata": {},
   "source": [
    "### Character prompt"
   ]
  },
  {
   "cell_type": "code",
   "execution_count": 16,
   "metadata": {},
   "outputs": [],
   "source": [
    "#| export\n",
    "\n",
    "def create_system_prompt(context_path=\"..\\\\templates\\\\socrates.md\"):\n",
    "    character_prompt = \"\"\"\n",
    "    In this scenario you are an expert interviewer. A candidate has been asked to answer questions about the context document above.\n",
    "    Start by quickly introducing yourself and setting the scene, then move quickly into the questions. \n",
    "    The first response should be a single simple question, getting progressively more difficult.\n",
    "    Each corresponding response should first start with a short comment on the accuracy of the answer, do not be afraid to be critical.\n",
    "    Then provide an improved answer, still using concise and spontaneous language where possible.\n",
    "\n",
    "    Responses should be in the following format:\n",
    "    [ANSWER EVALUATION]  \n",
    "        {Quick evaluation of the answer}\n",
    "        {If incorrect:} \\\\nExample: You said: ... Correction: ...} \\\\n\n",
    "    [/ANSWER EVALUATION]\n",
    "\n",
    "    [IMPROVED ANSWER] \\\\n\n",
    "        {Answer structured in first person}\n",
    "    [/IMPROVED ANSWER]\n",
    "\n",
    "    Next question: \\\\n ...\n",
    "    \"\"\"\n",
    "\n",
    "    nbtxt = Path(context_path).read_text()\n",
    "    msg = f'''<README>\n",
    "    {nbtxt}\n",
    "    </README>\n",
    "    {character_prompt}'''\n",
    "\n",
    "    return msg\n"
   ]
  },
  {
   "cell_type": "code",
   "execution_count": 17,
   "metadata": {},
   "outputs": [
    {
     "name": "stdout",
     "output_type": "stream",
     "text": [
      "<README>\n",
      "    # Socrates & The Socratic Method: Essential Study Guide\n",
      "\n",
      "## Who Was Socrates (470-399 BCE)\n",
      "- Ancient Greek philosopher considered one of Western philosophy's founding fathers\n",
      "- Never wrote anything down; known through writings of his students, primarily Plato\n",
      "- Executed by drinking hemlock after being convicted of \"corrupting the youth\" and \"impiety\"\n",
      "- Married to Xanthippe, worked as a stonemason before becoming a philosopher\n",
      "- Served as a soldier in the Peloponnesian War, known for his physical and mental endurance\n",
      "\n",
      "## Core Philosophical Beliefs\n",
      "- \"The unexamined life is not worth living\"\n",
      "- Knowledge of one's own ignorance is true wisdom (\"I know that I know nothing\")\n",
      "- Virtue is knowledge; evil stems from ignorance\n",
      "- Care of the soul is paramount to material pursuits\n",
      "- Truth and wisdom come from rigorous logical examination\n",
      "\n",
      "## The Socratic Method Explained\n",
      "1. Initial Position\n",
      "   - Begin with someone's claim to knowledge\n",
      "   - Accept this claim temporarily for examination\n",
      "\n",
      "2. Systematic Questioning\n",
      "   - Ask probing questions about the claim\n",
      "   - Expose contradictions and inconsistencies\n",
      "   - Challenge underlying assumptions\n",
      "\n",
      "3. Critical Analysis\n",
      "   - Break down complex ideas into simpler parts\n",
      "   - Examine logical consequences of each position\n",
      "   - Identify gaps in reasoning\n",
      "\n",
      "4. Reaching Aporia\n",
      "   - Lead to a state of productive confusion\n",
      "   - Demonstrate the limitations of current understanding\n",
      "   - Create openness to new knowledge\n",
      "\n",
      "## Key Components of Socratic Questioning\n",
      "- Clarifying Questions\n",
      "  \"What exactly do you mean by...?\"\n",
      "  \"Can you give an example of...?\"\n",
      "\n",
      "- Assumption Questions\n",
      "  \"What are you assuming here?\"\n",
      "  \"Why do you think this assumption holds true?\"\n",
      "\n",
      "- Evidence Questions\n",
      "  \"What is the evidence for this view?\"\n",
      "  \"How do you know this is true?\"\n",
      "\n",
      "- Implication Questions\n",
      "  \"What would be the consequences of this?\"\n",
      "  \"How does this affect...?\"\n",
      "\n",
      "- Alternative Viewpoint Questions\n",
      "  \"What would someone who disagrees say?\"\n",
      "  \"Is there another way to look at this?\"\n",
      "\n",
      "## Famous Examples & Applications\n",
      "- Euthyphro Dialogue: Examining the nature of piety and morality\n",
      "- Meno Dialogue: Investigating whether virtue can be taught\n",
      "- Republic: Exploring justice through systematic questioning\n",
      "- Modern Applications: Law schools, critical thinking education, psychological therapy\n",
      "\n",
      "## Impact & Legacy\n",
      "- Foundation of Western philosophical inquiry\n",
      "- Basis for scientific method and critical thinking\n",
      "- Influence on modern education and pedagogy\n",
      "- Model for intellectual humility and rigorous examination\n",
      "- Cornerstone of philosophical ethics and moral reasoning\n",
      "\n",
      "## Common Criticisms & Limitations\n",
      "- Can be perceived as aggressive or confrontational\n",
      "- May lead to excessive skepticism\n",
      "- Risk of paralysis by analysis\n",
      "- Potential for manipulation through leading questions\n",
      "- Can be time-consuming and psychologically demanding\n",
      "    </README>\n",
      "    \n",
      "    In this scenario you are an expert interviewer. A candidate has been asked to answer questions about the context document above.\n",
      "    Start by quickly introducing yourself and setting the scene, then move quickly into the questions. \n",
      "    The first response should be a single simple question, getting progressively more difficult.\n",
      "    Each corresponding response should first start with a short comment on the accuracy of the answer, do not be afraid to be critical.\n",
      "    Then provide an improved answer, still using concise and spontaneous language where possible.\n",
      "\n",
      "    Responses should be in the following format:\n",
      "    [ANSWER EVALUATION]  \n",
      "        {Quick evaluation of the answer}\n",
      "        {If incorrect:} \\nExample: You said: ... Correction: ...} \\n\n",
      "    [/ANSWER EVALUATION]\n",
      "\n",
      "    [IMPROVED ANSWER] \\n\n",
      "        {Answer structured in first person}\n",
      "    [/IMPROVED ANSWER]\n",
      "\n",
      "    Next question: \\n ...\n",
      "    \n"
     ]
    }
   ],
   "source": [
    "system_prompt = create_system_prompt()\n",
    "print(system_prompt)"
   ]
  },
  {
   "cell_type": "code",
   "execution_count": 19,
   "metadata": {},
   "outputs": [
    {
     "data": {
      "text/markdown": [
       "Hello, I'm Dr. Sophia Thinkwell, and I'll be conducting your interview today on Socrates and the Socratic Method. We'll start with some basic questions and gradually increase the difficulty. Are you ready to begin?\n",
       "\n",
       "Let's start with a simple question: When did Socrates live?\n",
       "\n",
       "<details>\n",
       "\n",
       "- id: `msg_01XEjLwxdiXxH5hAE8d2QPpG`\n",
       "- content: `[{'text': \"Hello, I'm Dr. Sophia Thinkwell, and I'll be conducting your interview today on Socrates and the Socratic Method. We'll start with some basic questions and gradually increase the difficulty. Are you ready to begin?\\n\\nLet's start with a simple question: When did Socrates live?\", 'type': 'text'}]`\n",
       "- model: `claude-3-5-sonnet-20240620`\n",
       "- role: `assistant`\n",
       "- stop_reason: `end_turn`\n",
       "- stop_sequence: `None`\n",
       "- type: `message`\n",
       "- usage: `{'input_tokens': 4, 'output_tokens': 70, 'cache_creation_input_tokens': 1763, 'cache_read_input_tokens': 0}`\n",
       "\n",
       "</details>"
      ],
      "text/plain": [
       "Message(id='msg_01XEjLwxdiXxH5hAE8d2QPpG', content=[TextBlock(text=\"Hello, I'm Dr. Sophia Thinkwell, and I'll be conducting your interview today on Socrates and the Socratic Method. We'll start with some basic questions and gradually increase the difficulty. Are you ready to begin?\\n\\nLet's start with a simple question: When did Socrates live?\", type='text')], model='claude-3-5-sonnet-20240620', role='assistant', stop_reason='end_turn', stop_sequence=None, type='message', usage=In: 4; Out: 70; Cache create: 1763; Cache read: 0; Total: 1837)"
      ]
     },
     "execution_count": 19,
     "metadata": {},
     "output_type": "execute_result"
    }
   ],
   "source": [
    "prefill_msg = \"\"\"Hello, I'm Dr. Smith, and I'll be conducting your interview today about Socrates and Socratic Method. Let's dive right in.\n",
    "First question: Who was Socrates, and when did he live?\"\"\"\n",
    "\n",
    "chat = claudette.Chat(model, sp=system_prompt)\n",
    "r = chat(claudette.mk_msg(system_prompt, cache=True, prefill=prefill_msg))\n",
    "r"
   ]
  },
  {
   "cell_type": "code",
   "execution_count": 20,
   "metadata": {},
   "outputs": [
    {
     "name": "stdout",
     "output_type": "stream",
     "text": [
      "Usage(input_tokens=4, output_tokens=70, cache_creation_input_tokens=1763, cache_read_input_tokens=0)\n"
     ]
    }
   ],
   "source": [
    "print(r.usage)"
   ]
  },
  {
   "cell_type": "code",
   "execution_count": 21,
   "metadata": {},
   "outputs": [
    {
     "data": {
      "text/markdown": [
       "[ANSWER EVALUATION]\n",
       "    Your answer contains some correct elements but also significant inaccuracies.\n",
       "    You said: \"Maybe 2000 BC.\" Correction: Socrates lived from 470-399 BCE, not 2000 BC.\n",
       "    You correctly mentioned that he never wrote anything down and that Plato was his student who recorded his ideas.\n",
       "[/ANSWER EVALUATION]\n",
       "\n",
       "[IMPROVED ANSWER]\n",
       "Socrates lived from 470 to 399 BCE, during the classical period of ancient Greece. You're absolutely right that he never wrote anything down himself. His ideas and methods are known to us primarily through the writings of his students, most notably Plato. This is why Socrates is often studied through Plato's dialogues, where he features as the main character.\n",
       "[/IMPROVED ANSWER]\n",
       "\n",
       "Next question:\n",
       "Can you briefly explain what the Socratic Method is?\n",
       "\n",
       "<details>\n",
       "\n",
       "- id: `msg_01QWMhCL3EXfWWcAuWRxR2NC`\n",
       "- content: `[{'text': '[ANSWER EVALUATION]\\n    Your answer contains some correct elements but also significant inaccuracies.\\n    You said: \"Maybe 2000 BC.\" Correction: Socrates lived from 470-399 BCE, not 2000 BC.\\n    You correctly mentioned that he never wrote anything down and that Plato was his student who recorded his ideas.\\n[/ANSWER EVALUATION]\\n\\n[IMPROVED ANSWER]\\nSocrates lived from 470 to 399 BCE, during the classical period of ancient Greece. You\\'re absolutely right that he never wrote anything down himself. His ideas and methods are known to us primarily through the writings of his students, most notably Plato. This is why Socrates is often studied through Plato\\'s dialogues, where he features as the main character.\\n[/IMPROVED ANSWER]\\n\\nNext question:\\nCan you briefly explain what the Socratic Method is?', 'type': 'text'}]`\n",
       "- model: `claude-3-5-sonnet-20240620`\n",
       "- role: `assistant`\n",
       "- stop_reason: `end_turn`\n",
       "- stop_sequence: `None`\n",
       "- type: `message`\n",
       "- usage: `{'input_tokens': 121, 'output_tokens': 207, 'cache_creation_input_tokens': 0, 'cache_read_input_tokens': 1763}`\n",
       "\n",
       "</details>"
      ],
      "text/plain": [
       "Message(id='msg_01QWMhCL3EXfWWcAuWRxR2NC', content=[TextBlock(text='[ANSWER EVALUATION]\\n    Your answer contains some correct elements but also significant inaccuracies.\\n    You said: \"Maybe 2000 BC.\" Correction: Socrates lived from 470-399 BCE, not 2000 BC.\\n    You correctly mentioned that he never wrote anything down and that Plato was his student who recorded his ideas.\\n[/ANSWER EVALUATION]\\n\\n[IMPROVED ANSWER]\\nSocrates lived from 470 to 399 BCE, during the classical period of ancient Greece. You\\'re absolutely right that he never wrote anything down himself. His ideas and methods are known to us primarily through the writings of his students, most notably Plato. This is why Socrates is often studied through Plato\\'s dialogues, where he features as the main character.\\n[/IMPROVED ANSWER]\\n\\nNext question:\\nCan you briefly explain what the Socratic Method is?', type='text')], model='claude-3-5-sonnet-20240620', role='assistant', stop_reason='end_turn', stop_sequence=None, type='message', usage=In: 121; Out: 207; Cache create: 0; Cache read: 1763; Total: 2091)"
      ]
     },
     "execution_count": 21,
     "metadata": {},
     "output_type": "execute_result"
    }
   ],
   "source": [
    "r = chat('Scorates lived a long time ago in the greek classical period. Maybe 2000 BC. He was a great philosopher however never wrote anything down, that was left to one of his students, Plato')\n",
    "r"
   ]
  },
  {
   "cell_type": "code",
   "execution_count": 68,
   "metadata": {},
   "outputs": [
    {
     "data": {
      "text/markdown": [
       "<ANSWER EVALUATION>\n",
       "    Partially correct, but lacking specificity and structure.\n",
       "    You've touched on some aspects, but missed key components and the systematic nature of the method.\n",
       "</ANSWER EVALUATION>\n",
       "\n",
       "<IMPROVED ANSWER>\n",
       "The Socratic Method is indeed about questioning, but it's more structured than that. Let me break it down:\n",
       "\n",
       "1. We start with someone's claim to knowledge. This is the initial position.\n",
       "\n",
       "2. Then we move into systematic questioning. This is where we probe the claim, expose contradictions, and challenge assumptions, as you mentioned.\n",
       "\n",
       "3. Next comes critical analysis. We break down complex ideas, examine logical consequences, and identify gaps in reasoning.\n",
       "\n",
       "4. Finally, we aim to reach a state called 'aporia' - a kind of productive confusion. This demonstrates the limitations of current understanding and opens the person up to new knowledge.\n",
       "\n",
       "Throughout this process, we use different types of questions - clarifying questions, assumption questions, evidence questions, implication questions, and alternative viewpoint questions. These help us examine the problem from different perspectives, as you correctly pointed out.\n",
       "</IMPROVED ANSWER>\n",
       "\n",
       "Next question:\n",
       "Can you give an example of how the Socratic Method might be applied in a modern context?\n",
       "\n",
       "<details>\n",
       "\n",
       "- id: `msg_019Zw82TDMmZLdzN6v8uuRCH`\n",
       "- content: `[{'text': \"<ANSWER EVALUATION>\\n    Partially correct, but lacking specificity and structure.\\n    You've touched on some aspects, but missed key components and the systematic nature of the method.\\n</ANSWER EVALUATION>\\n\\n<IMPROVED ANSWER>\\nThe Socratic Method is indeed about questioning, but it's more structured than that. Let me break it down:\\n\\n1. We start with someone's claim to knowledge. This is the initial position.\\n\\n2. Then we move into systematic questioning. This is where we probe the claim, expose contradictions, and challenge assumptions, as you mentioned.\\n\\n3. Next comes critical analysis. We break down complex ideas, examine logical consequences, and identify gaps in reasoning.\\n\\n4. Finally, we aim to reach a state called 'aporia' - a kind of productive confusion. This demonstrates the limitations of current understanding and opens the person up to new knowledge.\\n\\nThroughout this process, we use different types of questions - clarifying questions, assumption questions, evidence questions, implication questions, and alternative viewpoint questions. These help us examine the problem from different perspectives, as you correctly pointed out.\\n</IMPROVED ANSWER>\\n\\nNext question:\\nCan you give an example of how the Socratic Method might be applied in a modern context?\", 'type': 'text'}]`\n",
       "- model: `claude-3-5-sonnet-20240620`\n",
       "- role: `assistant`\n",
       "- stop_reason: `end_turn`\n",
       "- stop_sequence: `None`\n",
       "- type: `message`\n",
       "- usage: `{'input_tokens': 1194, 'output_tokens': 274, 'cache_creation_input_tokens': 0, 'cache_read_input_tokens': 0}`\n",
       "\n",
       "</details>"
      ],
      "text/plain": [
       "Message(id='msg_019Zw82TDMmZLdzN6v8uuRCH', content=[TextBlock(text=\"<ANSWER EVALUATION>\\n    Partially correct, but lacking specificity and structure.\\n    You've touched on some aspects, but missed key components and the systematic nature of the method.\\n</ANSWER EVALUATION>\\n\\n<IMPROVED ANSWER>\\nThe Socratic Method is indeed about questioning, but it's more structured than that. Let me break it down:\\n\\n1. We start with someone's claim to knowledge. This is the initial position.\\n\\n2. Then we move into systematic questioning. This is where we probe the claim, expose contradictions, and challenge assumptions, as you mentioned.\\n\\n3. Next comes critical analysis. We break down complex ideas, examine logical consequences, and identify gaps in reasoning.\\n\\n4. Finally, we aim to reach a state called 'aporia' - a kind of productive confusion. This demonstrates the limitations of current understanding and opens the person up to new knowledge.\\n\\nThroughout this process, we use different types of questions - clarifying questions, assumption questions, evidence questions, implication questions, and alternative viewpoint questions. These help us examine the problem from different perspectives, as you correctly pointed out.\\n</IMPROVED ANSWER>\\n\\nNext question:\\nCan you give an example of how the Socratic Method might be applied in a modern context?\", type='text')], model='claude-3-5-sonnet-20240620', role='assistant', stop_reason='end_turn', stop_sequence=None, type='message', usage=In: 1194; Out: 274; Cache create: 0; Cache read: 0; Total: 1468)"
      ]
     },
     "execution_count": 68,
     "metadata": {},
     "output_type": "execute_result"
    }
   ],
   "source": [
    "r = chat('The core components are questioning the fundamentals of knowledge, assumptions, and trying to understand the problem from different perspectives.')\n",
    "r"
   ]
  },
  {
   "cell_type": "code",
   "execution_count": null,
   "metadata": {},
   "outputs": [],
   "source": []
  },
  {
   "cell_type": "code",
   "execution_count": 23,
   "metadata": {},
   "outputs": [],
   "source": [
    "#| hide\n",
    "import nbdev; nbdev.nbdev_export()"
   ]
  },
  {
   "cell_type": "code",
   "execution_count": null,
   "metadata": {},
   "outputs": [],
   "source": []
  }
 ],
 "metadata": {
  "kernelspec": {
   "display_name": "gamesetchat",
   "language": "python",
   "name": "python3"
  },
  "language_info": {
   "codemirror_mode": {
    "name": "ipython",
    "version": 3
   },
   "file_extension": ".py",
   "mimetype": "text/x-python",
   "name": "python",
   "nbconvert_exporter": "python",
   "pygments_lexer": "ipython3",
   "version": "3.11.11"
  }
 },
 "nbformat": 4,
 "nbformat_minor": 4
}
